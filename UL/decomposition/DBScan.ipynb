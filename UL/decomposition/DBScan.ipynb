{
 "cells": [
  {
   "cell_type": "code",
   "execution_count": 1,
   "id": "07182094-d6bc-40ba-b6d3-81a2f8706ac4",
   "metadata": {},
   "outputs": [],
   "source": [
    "import numpy as np"
   ]
  },
  {
   "cell_type": "code",
   "execution_count": 2,
   "id": "84c8469c-f84b-4ba9-99a2-ee7178406637",
   "metadata": {},
   "outputs": [],
   "source": [
    "def MyDBSCAN(data, eps, MinPts):\n",
    "    # 保存最终的标签结果，其中 -1 代表噪声点，0 代表还未被分类状态\n",
    "    labels = [0]*len(data)\n",
    "\n",
    "    # 当前蔟的类别\n",
    "    C = 0\n",
    "    \n",
    "    for P in range(0, len(data)):\n",
    "    \n",
    "        # 只对还未被分类的点进行聚类操作\n",
    "        if not (labels[P] == 0):\n",
    "           continue\n",
    "        \n",
    "        NeighborPts = regionQuery(data, P, eps)\n",
    "        \n",
    "        # 当邻近点数小于 MinPts 时，将所有点视为噪声点\n",
    "        if len(NeighborPts) < MinPts:\n",
    "            labels[P] = -1\n",
    "        # 基于点 P 生成蔟\n",
    "        else: \n",
    "           C += 1\n",
    "           growCluster(data, labels, P, NeighborPts, C, eps, MinPts)\n",
    "    \n",
    "    return labels\n",
    "\n",
    "def regionQuery(data, P, eps):\n",
    "    \"\"\"\n",
    "    找到数据集中所有与点 P 距离小于 eps 的点\n",
    "    \"\"\"\n",
    "    neighbors = []\n",
    "    \n",
    "    for Pn in range(0, len(data)):\n",
    "        # 如果距离小于 eps 把当前点假如邻居节点集合当中\n",
    "        if np.linalg.norm(data[P] - data[Pn]) < eps:\n",
    "           neighbors.append(Pn)\n",
    "    return neighbors\n",
    "\n",
    "def growCluster(data, labels, P, NeighborPts, C, eps, MinPts):\n",
    "    \"\"\"\n",
    "    基于点 P 以及其邻居节点生成蔟\n",
    "    \"\"\"\n",
    "\n",
    "    labels[P] = C\n",
    "    \n",
    "    i = 0\n",
    "    while i < len(NeighborPts):\n",
    "        Pn = NeighborPts[i]\n",
    "        if labels[Pn] == -1:\n",
    "            # 标签值为 -1 时，其邻居节点数量必定小于 MinPts 所以不需要寻找了\n",
    "            labels[Pn] = C\n",
    "        elif labels[Pn] == 0:\n",
    "            # 不需要考虑 labels 为其他值的节点，为了避免遍历到之前已经赋值过的节点导致的死循环\n",
    "            labels[Pn] = C\n",
    "            # 找到 Pn 的所有邻居节点并加入该蔟\n",
    "            PnNeighborPts = regionQuery(data, Pn, eps)\n",
    "\n",
    "            if len(PnNeighborPts) >= MinPts:\n",
    "                NeighborPts = NeighborPts + PnNeighborPts\n",
    "        i += 1"
   ]
  },
  {
   "cell_type": "markdown",
   "id": "f7c65858-2f2f-4c3b-aa33-792556d00a30",
   "metadata": {},
   "source": [
    "## 与 sklearn 实现对比"
   ]
  },
  {
   "cell_type": "code",
   "execution_count": 3,
   "id": "b2456376-7035-4924-b346-7074a6f56a07",
   "metadata": {},
   "outputs": [
    {
     "name": "stdout",
     "output_type": "stream",
     "text": [
      "Running my implementation...\n",
      "Runing scikit-learn implementation...\n",
      "PASS - All labels match!\n"
     ]
    }
   ],
   "source": [
    "from sklearn.datasets import make_blobs\n",
    "from sklearn.cluster import DBSCAN\n",
    "from sklearn.preprocessing import StandardScaler\n",
    "\n",
    "# Create three gaussian blobs to use as our clustering data.\n",
    "centers = [[1, 1], [-1, -1], [1, -1]]\n",
    "X, labels_true = make_blobs(n_samples=750, centers=centers, cluster_std=0.4,\n",
    "                            random_state=0)\n",
    "\n",
    "X = StandardScaler().fit_transform(X)\n",
    "\n",
    "###############################################################################\n",
    "# Run my DBSCAN implementation.\n",
    "print('Running my implementation...')\n",
    "my_labels = MyDBSCAN(X, eps=0.3, MinPts=10)\n",
    "\n",
    "###############################################################################\n",
    "# Scikit-learn implementation of DBSCAN\n",
    "#\n",
    "\n",
    "print('Runing scikit-learn implementation...')\n",
    "db = DBSCAN(eps=0.3, min_samples=10).fit(X)\n",
    "skl_labels = db.labels_\n",
    "\n",
    "# Scikit learn uses -1 to for NOISE, and starts cluster labeling at 0. I start\n",
    "# numbering at 1, so increment the skl cluster numbers by 1.\n",
    "for i in range(0, len(skl_labels)):\n",
    "    if not skl_labels[i] == -1:\n",
    "        skl_labels[i] += 1\n",
    "\n",
    "\n",
    "###############################################################################\n",
    "# Did we get the same results?\n",
    "\n",
    "num_disagree = 0\n",
    "\n",
    "# Go through each label and make sure they match (print the labels if they \n",
    "# don't)\n",
    "for i in range(0, len(skl_labels)):\n",
    "    if not skl_labels[i] == my_labels[i]:\n",
    "        print('Scikit learn:', skl_labels[i], 'mine:', my_labels[i])\n",
    "        num_disagree += 1\n",
    "\n",
    "if num_disagree == 0:\n",
    "    print('PASS - All labels match!')\n",
    "else:\n",
    "    print('FAIL -', num_disagree, 'labels don\\'t match.')       "
   ]
  }
 ],
 "metadata": {
  "kernelspec": {
   "display_name": "Python 3 (ipykernel)",
   "language": "python",
   "name": "python3"
  },
  "language_info": {
   "codemirror_mode": {
    "name": "ipython",
    "version": 3
   },
   "file_extension": ".py",
   "mimetype": "text/x-python",
   "name": "python",
   "nbconvert_exporter": "python",
   "pygments_lexer": "ipython3",
   "version": "3.9.13"
  }
 },
 "nbformat": 4,
 "nbformat_minor": 5
}
